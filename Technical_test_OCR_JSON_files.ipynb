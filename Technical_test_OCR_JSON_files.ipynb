{
 "cells": [
  {
   "cell_type": "markdown",
   "id": "33e7d601",
   "metadata": {},
   "source": [
    "# Extranting data from OCR JSON"
   ]
  },
  {
   "cell_type": "markdown",
   "id": "aa1f3974",
   "metadata": {},
   "source": [
    "In the following notebook, I show how to extract specific information of OCR .json file provide by Verify "
   ]
  },
  {
   "cell_type": "markdown",
   "id": "53dc11e1",
   "metadata": {},
   "source": [
    "## Import the necessary pyhton libraries"
   ]
  },
  {
   "cell_type": "code",
   "execution_count": 113,
   "id": "b03d2e5f",
   "metadata": {},
   "outputs": [],
   "source": [
    "import json\n",
    "import pandas as pd\n",
    "import numpy as np\n",
    "import json"
   ]
  },
  {
   "cell_type": "markdown",
   "id": "7521470c",
   "metadata": {},
   "source": [
    "## Load the .json file"
   ]
  },
  {
   "cell_type": "code",
   "execution_count": 78,
   "id": "1d12ce49",
   "metadata": {},
   "outputs": [],
   "source": [
    "# Open the JSON file for ticket1\n",
    "\n",
    "# '/home/alejandro/Documents/Personal/Verify/resources/resources/OCR_ticket1.json' is the location in my personal\n",
    "# machine. Change it to your local destination\n",
    "\n",
    "with open('/home/alejandro/Documents/Personal/Verify/resources/resources/OCR_ticket1.json', 'r') as file:\n",
    "    # Load the JSON data from the file\n",
    "    ticket1 = json.load(file)\n",
    "\n",
    "with open('/home/alejandro/Documents/Personal/Verify/resources/resources/OCR_ticket2.json', 'r') as file:\n",
    "    # Load the JSON data from the file\n",
    "    ticket2 = json.load(file)"
   ]
  },
  {
   "cell_type": "markdown",
   "id": "8eb1788f",
   "metadata": {},
   "source": [
    "## Function to extract the Shop adress (we have two diferents .json)"
   ]
  },
  {
   "cell_type": "code",
   "execution_count": 41,
   "id": "605e8d97",
   "metadata": {},
   "outputs": [],
   "source": [
    "def adress(json):\n",
    "    \n",
    "    a = json['pages'][0]['textAnnotations'][0]['description']\n",
    "    b = a.split('\\n')\n",
    "    c = []\n",
    "    \n",
    "    lent = np.arange(len(b))\n",
    "    \n",
    "    for i in lent:\n",
    "        if b[i] == 'JUMBO VALLE DE LILI':\n",
    "            c.append(b[i+1])\n",
    "        elif b[i] == 'JUMBO CALLE 80':\n",
    "            c.append(b[i+1])\n",
    "    return c"
   ]
  },
  {
   "cell_type": "markdown",
   "id": "13c59375",
   "metadata": {},
   "source": [
    "## Function to extrac the items of one .json\n",
    "\n",
    "This function only works for .json associated with CALLE 80 shop"
   ]
  },
  {
   "cell_type": "code",
   "execution_count": 136,
   "id": "cbfe87c8",
   "metadata": {},
   "outputs": [],
   "source": [
    "def items(json): \n",
    "    \n",
    "    text = json['pages'][0]['textAnnotations'][0]['description']\n",
    "    text_split = text.split('\\n')\n",
    "    tex = np.arange(len(text_split))\n",
    "    \n",
    "    \n",
    "    \n",
    "    start = 0\n",
    "    end = 0\n",
    "    for i in tex:\n",
    "        if text_split[i] == '$':\n",
    "            start = i\n",
    "        if text_split[i] == 'SUBTOTAL.':\n",
    "            end = i\n",
    "    \n",
    "    data_1 = []\n",
    "    for i in np.arange(start+1,end,1):\n",
    "        data_1.append(text_split[i])      \n",
    "\n",
    "    data_1.remove('SUBTOTAL')\n",
    "\n",
    "    data_2 = []\n",
    "\n",
    "    for i in data_1:\n",
    "        data_2.append(i.split(' ',1))\n",
    "    \n",
    "    sku = []\n",
    "    desc = []\n",
    "    val = []\n",
    "    tax_ty = []\n",
    "\n",
    "\n",
    "    for i in data_2:\n",
    "        if (len(i) == 2):\n",
    "            if (len(i[0]) <= 8 and i[0].isnumeric() == True):\n",
    "                val.append(i[0])\n",
    "                tax_ty.append(i[1])\n",
    "            else: \n",
    "                sku.append(i[0])\n",
    "                desc.append(i[1])\n",
    "        \n",
    "        if (len(i) == 1):\n",
    "            if i[0].isnumeric() == True:\n",
    "                val.append(i[0])\n",
    "            else:\n",
    "                tax_ty.append(i[0])\n",
    "            \n",
    "    \n",
    "    for i in val:\n",
    "        if len(val) > len(tax_ty):\n",
    "            tax_ty.append('0')\n",
    "\n",
    "    items = []\n",
    "\n",
    "    create = np.arange(len(desc))\n",
    "\n",
    "    for i in create:\n",
    "        a = [sku[i],desc[i],val[i],tax_ty[i]]\n",
    "        items.append(a)\n",
    "\n",
    "    return items"
   ]
  },
  {
   "cell_type": "markdown",
   "id": "007965c6",
   "metadata": {},
   "source": [
    "## Function to extract the total & subtotal values of .json file\n",
    "\n",
    "This function only works for .json associated with CALLE 80 shop "
   ]
  },
  {
   "cell_type": "code",
   "execution_count": 137,
   "id": "745cca9e",
   "metadata": {},
   "outputs": [],
   "source": [
    "def tot_and_sub_tot(split):\n",
    "    \n",
    "     # Total and Subtotal of the ticket\n",
    "    total = np.arange(len(split))\n",
    "    tot = 0.0\n",
    "    sub_tot = 0.0\n",
    "\n",
    "    for i in total:\n",
    "        if split[i] == 'TOTAL':\n",
    "            tot = float(split[i+1])\n",
    "            sub_tot = float(split[i+1])+float(split[i+2])\n",
    "            \n",
    "    return [tot,sub_tot]\n"
   ]
  },
  {
   "cell_type": "markdown",
   "id": "86bcc275",
   "metadata": {},
   "source": [
    "## Function to extract the total & subtotal values of .json file\n",
    "\n",
    "This function only works for .json associated with VALLE DE LILI shop\n"
   ]
  },
  {
   "cell_type": "code",
   "execution_count": 138,
   "id": "4fc19d4a",
   "metadata": {},
   "outputs": [],
   "source": [
    "def tot_and_sub_tot_1(split):\n",
    "    \n",
    "    total = np.arange(len(split))\n",
    "    tot = 0.0\n",
    "    sub_tot = 0.0\n",
    "    \n",
    "    for i in total:\n",
    "        if split[i] == 'TOTAL':\n",
    "            tot = float(split[i-2])-float(split[i-1])\n",
    "            sub_tot = float(split[i-2])\n",
    "    \n",
    "    return [tot,sub_tot]\n"
   ]
  },
  {
   "cell_type": "markdown",
   "id": "03ca035f",
   "metadata": {},
   "source": [
    "## Function to extrac the date of OCR .json file"
   ]
  },
  {
   "cell_type": "code",
   "execution_count": 139,
   "id": "c5237b8d",
   "metadata": {},
   "outputs": [],
   "source": [
    "def date(text_split):\n",
    "    date = []\n",
    "    lent = np.arange(len(text_split))\n",
    "\n",
    "    for i in lent:\n",
    "        if ('/' in text_split[i] and (len(text_split[i]) == 10 and text_split[i][0].isalpha() != True )):\n",
    "            date.append(text_split[i])\n",
    "    \n",
    "    return date"
   ]
  },
  {
   "cell_type": "markdown",
   "id": "7417ccf9",
   "metadata": {},
   "source": [
    "## Function to extract the invoice number of the OCR .json file"
   ]
  },
  {
   "cell_type": "code",
   "execution_count": 140,
   "id": "1e8c7089",
   "metadata": {},
   "outputs": [],
   "source": [
    "def get_ticket(json):\n",
    "    \n",
    "    leng = np.arange(len(json['pages'][0]['textAnnotations']))\n",
    "\n",
    "    ticket = []\n",
    "\n",
    "    for i in leng:\n",
    "        if json['pages'][0]['textAnnotations'][i]['description'] == 'TIQUETE':\n",
    "            ticket.append(json['pages'][0]['textAnnotations'][i]['description']+' '+json['pages'][0]['textAnnotations'][i+1]['description']+' '+json['pages'][0]['textAnnotations'][i+2]['description'])\n",
    "    \n",
    "    return ticket\n",
    "    "
   ]
  },
  {
   "cell_type": "markdown",
   "id": "2161721d",
   "metadata": {},
   "source": [
    "## Function to extract the requested information for JUMBO CALLE 80 shop"
   ]
  },
  {
   "cell_type": "code",
   "execution_count": 141,
   "id": "3d5cf61b",
   "metadata": {},
   "outputs": [],
   "source": [
    "def get_info_calle80(a):\n",
    "    \n",
    "    # In this line we indentify the hole extract text of the image and create a list for search the info\n",
    "    text = a['pages'][0]['textAnnotations'][0]['description']\n",
    "    text_split = text.split('\\n')\n",
    "    \n",
    "    # Total and Subtotal of the ticket\n",
    "    tot,sub = tot_and_sub_tot(text_split)\n",
    "    \n",
    "    # In this line we search the adress of the shop\n",
    "    shop_adress = adress(a)\n",
    "    \n",
    "    # In this line we search the date of the ticket\n",
    "        \n",
    "    date_ticktet = date(text_split)\n",
    "    \n",
    "    # In this line we search the invoice number of the ticket\n",
    "    \n",
    "    ticket_number = get_ticket(a)\n",
    "    \n",
    "    items_ticket = items(a)\n",
    "    \n",
    "    information =  {'Date': date_ticktet[0],'Store adress': shop_adress[0], 'Invocice number': ticket_number[0], 'Subtotal': sub, 'Total': tot,'Items': items_ticket}\n",
    "    \n",
    "    information_json = json.dumps(information)\n",
    "    \n",
    "    return (information_json)"
   ]
  },
  {
   "cell_type": "markdown",
   "id": "19d2b0eb",
   "metadata": {},
   "source": [
    "## Function to extract the requested information for JUMBO VALLE de LILI shop"
   ]
  },
  {
   "cell_type": "code",
   "execution_count": 142,
   "id": "ac3a653c",
   "metadata": {},
   "outputs": [],
   "source": [
    "def get_info_vallelili(a):\n",
    "    \n",
    "    # In this line we indentify the hole extract text of the image and create a list for search the info\n",
    "    text = a['pages'][0]['textAnnotations'][0]['description']\n",
    "    text_split = text.split('\\n')\n",
    "    \n",
    "    # Total and Subtotal of the ticket\n",
    "    tot,sub = tot_and_sub_tot_1(text_split)\n",
    "    \n",
    "    # In this line we search the adress of the shop\n",
    "    shop_adress = adress(a)\n",
    "    \n",
    "    # In this line we search the date of the ticket\n",
    "        \n",
    "    date_ticktet = date(text_split)\n",
    "    \n",
    "    # In this line we search the invoice number of the ticket\n",
    "    \n",
    "    ticket_number = get_ticket(a)\n",
    "       \n",
    "    information =  {'Date': date_ticktet[0],'Store adress': shop_adress[0], 'Invocice number': ticket_number[0], 'Subtotal': sub, 'Total': tot}\n",
    "    \n",
    "    information_json = json.dumps(information)\n",
    "    \n",
    "    return(information_json)"
   ]
  },
  {
   "cell_type": "code",
   "execution_count": 143,
   "id": "a547c369",
   "metadata": {},
   "outputs": [
    {
     "data": {
      "text/plain": [
       "'{\"Date\": \"10/12/2021\", \"Store adress\": \"AVENIDA CALLE 80 No 69Q- 50 TEL:6387000\", \"Invocice number\": \"TIQUETE J122 249302\", \"Subtotal\": 86160.0, \"Total\": 77733.0, \"Items\": [[\"8410270241140\", \"Aceite oliva SU\", \"27990\", \"N\"], [\"7707322030489\", \"Quinua QUINOACL\", \"7990\", \"A\"], [\"7707322030489\", \"Quinua QUINOACL\", \"7990\", \"A\"], [\"8004690751060\", \"Cous cous LA MO\", \"8990\", \"N\"], [\"7702247011056\", \"YOGURT LIQUIDO\", \"2650\", \"A\"], [\"8410971033785\", \"Aceitunas EXCEL\", \"3490\", \"N\"], [\"7707298470074\", \"Tallarines BEST\", \"8790\", \"A\"], [\"7702085003497\", \"Quinua molida D\", \"8690\", \"A\"], [\"7705326077837\", \"Tortillinas BIM\", \"5990\", \"N\"], [\"7702253800002\", \"Maiz pira TOT-R\", \"3590\", \"0\"]]}'"
      ]
     },
     "execution_count": 143,
     "metadata": {},
     "output_type": "execute_result"
    }
   ],
   "source": [
    "get_info_calle80(ticket1)"
   ]
  },
  {
   "cell_type": "code",
   "execution_count": 144,
   "id": "3f755743",
   "metadata": {},
   "outputs": [
    {
     "data": {
      "text/plain": [
       "'{\"Date\": \"04/11/2021\", \"Store adress\": \"CARRERA 98 No 16-50\", \"Invocice number\": \"TIQUETE J212 341304\", \"Subtotal\": 174196.0, \"Total\": 151731.0}'"
      ]
     },
     "execution_count": 144,
     "metadata": {},
     "output_type": "execute_result"
    }
   ],
   "source": [
    "get_info_vallelili(ticket2)"
   ]
  },
  {
   "cell_type": "code",
   "execution_count": null,
   "id": "141b17c6",
   "metadata": {},
   "outputs": [],
   "source": []
  },
  {
   "cell_type": "code",
   "execution_count": null,
   "id": "53fbd5cc",
   "metadata": {},
   "outputs": [],
   "source": []
  }
 ],
 "metadata": {
  "kernelspec": {
   "display_name": "Python 3 (ipykernel)",
   "language": "python",
   "name": "python3"
  },
  "language_info": {
   "codemirror_mode": {
    "name": "ipython",
    "version": 3
   },
   "file_extension": ".py",
   "mimetype": "text/x-python",
   "name": "python",
   "nbconvert_exporter": "python",
   "pygments_lexer": "ipython3",
   "version": "3.10.9"
  }
 },
 "nbformat": 4,
 "nbformat_minor": 5
}
